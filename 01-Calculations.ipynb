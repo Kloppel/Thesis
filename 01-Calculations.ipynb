{
 "cells": [
  {
   "cell_type": "code",
   "execution_count": 131,
   "metadata": {},
   "outputs": [],
   "source": [
    "import pandas as pd\n",
    "from datetime import datetime\n",
    "import matplotlib.pyplot as plt\n",
    "import numpy as np\n",
    "import seaborn as sns\n",
    "from hashlib import md5\n",
    "import pickle\n",
    "import pystan\n",
    "import os\n",
    "import sys\n",
    "import yfinance as yahoo\n",
    "import arviz as az\n",
    "import sklearn\n",
    "from sklearn.linear_model import LinearRegression\n",
    "import collections\n",
    "import uuid\n",
    "import scipy\n",
    "import re"
   ]
  },
  {
   "cell_type": "code",
   "execution_count": 132,
   "metadata": {},
   "outputs": [],
   "source": [
    "all_tickers = [\"MMM\", \"ABT\", \"ABMD\", \"ACN\", \"ATVI\", \"ADBE\", \"AMD\", \"AAP\", \"AES\", \"AMG\", \"AFL\", \"A\", \"APD\", \"AKAM\", \"ALK\", \"ALB\", \"ARE\", \"ALXN\", \"ALGN\", \"AGN\", \"ADS\", \"LNT\", \"ALL\", \"GOOGL\", \"GOOG\", \"MO\", \"AMZN\", \"AMCR\", \"AEE\", \"AAL\", \"AEP\", \"AXP\", \"AIG\", \"AMT\", \"AWK\", \"AMP\", \"ABC\", \"AME\", \"AMGN\", \"APH\", \"ADI\", \"ANSS\", \"ANTM\", \"AON\", \"AOS\", \"APA\", \"AIV\", \"AAPL\", \"AMAT\", \"APTV\", \"ADM\", \"ARNC\", \"AJG\", \"AIZ\", \"T\", \"ADSK\", \"ADP\", \"AZO\", \"AVB\", \"AVY\", \"BLL\", \"BAC\", \"BK\", \"BAX\", \"BDX\", \"BRK-B\", \"BBY\", \"BIIB\", \"BLK\", \"HRB\", \"BA\", \"BWA\", \"BXP\", \"BSX\", \"BMY\", \"AVGO\", \"BR\", \"BF-B\", \"CHRW\", \"COG\", \"CDNS\", \"CPB\", \"COF\", \"CPRI\", \"CAH\", \"KMX\", \"CCL\", \"CAT\", \"CBOE\", \"CBRE\", \"CBS\", \"CE\", \"CELG\", \"CNC\", \"CNP\", \"CTL\", \"CERN\", \"CF\", \"SCHW\", \"CHTR\", \"CVX\", \"CMG\", \"CMI\", \"CVS\", \"DHI\", \"DHR\", \"DRI\", \"DVA\", \"DE\", \"DAL\", \"XRAY\", \"DVN\", \"FANG\", \"DLR\", \"DFS\", \"DISCA\", \"DISCK\", \"DISH\", \"DG\", \"DLTR\", \"D\", \"DOV\", \"DTE\", \"DUK\", \"DRE\", \"DD\", \"DXC\", \"ETFC\", \"EMN\", \"ETN\", \"FLT\", \"FLIR\", \"FLS\", \"FMC\", \"F\", \"FTNT\", \"FBHS\", \"BEN\", \"FCX\", \"GPS\", \"GRMN\", \"IT\", \"GD\", \"GE\", \"GIS\", \"GM\", \"GPC\", \"GILD\", \"GL\", \"GPN\", \"GS\", \"GWW\", \"HAL\", \"HBI\", \"HOG\", \"HIG\", \"HAS\", \"HCA\", \"HP\", \"HSIC\", \"HSY\", \"HES\", \"HFC\", \"HOLX\", \"HD\", \"HON\", \"HRL\", \"HST\", \"HPQ\", \"HUM\", \"HBAN\", \"IDXX\", \"ITW\", \"ILMN\", \"IR\", \"INTC\", \"ICE\", \"IBM\", \"INCY\", \"IP\", \"IPG\", \"IFF\", \"INTU\", \"ISRG\", \"IVZ\", \"IPGP\", \"IRM\", \"JKHY\", \"JEC\", \"JBHT\", \"SJM\", \"JNJ\", \"JCI\", \"JPM\", \"JNPR\", \"KSU\", \"K\", \"KEY\", \"KMB\", \"KIM\", \"KMI\", \"KLAC\", \"KSS\", \"KR\", \"LB\", \"LHX\", \"LH\", \"LRCX\", \"LVS\", \"LEG\", \"LDOS\", \"LEN\", \"LLY\", \"LNC\", \"LIN\", \"LKQ\", \"LMT\", \"L\", \"LOW\", \"LYB\", \"MTB\", \"MAC\", \"M\", \"MRO\", \"MPC\", \"MKTX\", \"MAR\", \"MMC\", \"MLM\", \"MAS\", \"MA\", \"MKC\", \"MXIM\", \"MCD\", \"MCK\", \"MDT\", \"MRK\", \"MET\", \"MTD\", \"MGM\", \"MCHP\", \"MU\", \"MSFT\", \"MAA\", \"MHK\", \"TAP\", \"MDLZ\", \"MNST\", \"MCO\", \"MS\", \"MOS\", \"MSI\", \"MYL\", \"NDAQ\", \"NOV\", \"NTAP\", \"NFLX\", \"NWL\", \"NEM\", \"NEE\", \"NLSN\", \"NKE\", \"NI\", \"NBL\", \"JWN\", \"NSC\", \"NTRS\", \"NOC\", \"NRG\", \"NUE\", \"NVDA\", \"ORLY\", \"OXY\", \"OMC\", \"OKE\", \"ORCL\", \"PCAR\", \"PKG\", \"PH\", \"PAYX\", \"PNR\", \"PBCT\", \"PEP\", \"PKI\", \"PRGO\", \"PFE\", \"PM\", \"PSX\", \"PNW\", \"PXD\", \"PNC\", \"PPG\", \"PPL\", \"PFG\", \"PG\", \"PGR\", \"PLD\", \"PRU\", \"PEG\", \"PSA\", \"PHM\", \"PVH\", \"PWR\", \"QCOM\", \"DGX\", \"RL\", \"RJF\", \"RTN\", \"O\", \"REG\", \"REGN\", \"RF\", \"RSG\", \"RMD\", \"RHI\", \"ROK\", \"ROL\", \"ROP\", \"ROST\", \"RCL\", \"CRM\", \"SBAC\", \"SLB\", \"STX\", \"SEE\", \"SRE\", \"SHW\", \"SPG\", \"SWKS\", \"SLG\", \"SNA\", \"SO\", \"LUV\", \"SPGI\", \"SWK\", \"SBUX\", \"STT\", \"SYK\", \"STI\", \"SIVB\", \"SNPS\", \"SYY\", \"TMUS\", \"TROW\", \"TTWO\", \"TPR\", \"TGT\", \"TEL\", \"FTI\", \"TFX\", \"TXN\", \"TXT\", \"TMO\", \"TIF\", \"TJX\", \"TSCO\", \"TDG\", \"TRV\", \"TRIP\", \"TSN\", \"UDR\", \"ULTA\", \"USB\", \"UAA\", \"UNP\", \"UAL\", \"UNH\", \"UPS\", \"URI\", \"UTX\", \"UHS\", \"UNM\", \"VFC\", \"VLO\", \"VAR\", \"VTR\", \"VRSN\", \"VRSK\", \"VZ\", \"VRTX\", \"VIAB\", \"V\", \"VNO\", \"VMC\", \"WAB\", \"WMT\", \"WBA\", \"DIS\", \"WM\", \"WAT\", \"WEC\", \"WCG\", \"WFC\", \"WELL\", \"WDC\", \"WU\", \"WY\", \"WHR\", \"WMB\", \"WLTW\", \"WYNN\", \"XEL\", \"XRX\", \"XLNX\", \"XYL\", \"YUM\", \"ZBH\", \"ZION\"]\n",
    "trunc_tickers = [\"MMM\", \"ABT\", \"ABMD\", \"ACN\", \"ATVI\", \"ADBE\", \"AMD\", \"AAP\", \"AES\", \"AMG\", \"AFL\", \"A\", \"APD\", \"AKAM\", \"ALK\", \"ALB\", \"ARE\", \"ALXN\", \"ALGN\", \"AGN\", \"ADS\", \"LNT\", \"ALL\", \"GOOGL\", \"GOOG\", \"MO\", \"AMZN\", \"AMCR\", \"AEE\", \"AAL\", \"AEP\", \"AXP\", \"AIG\", \"AMT\", \"AWK\", \"AMP\", \"ABC\", \"AME\", \"AMGN\", \"APH\", \"ADI\", \"ANSS\", \"ANTM\", \"AON\", \"AOS\", \"APA\", \"AIV\", \"AAPL\", \"AMAT\", \"APTV\", \"ADM\", \"MSFT\", \"AJG\", \"AIZ\", \"T\", \"ADSK\", \"ADP\", \"AZO\", \"AVB\", \"AVY\"]\n",
    "test_tickers = [\"MMM\", \"AAPL\", \"MSFT\"]"
   ]
  },
  {
   "cell_type": "code",
   "execution_count": 133,
   "metadata": {},
   "outputs": [],
   "source": [
    "def StanModel_cache(model_code, model_name):\n",
    "    cache_fn = f'cached-model-{model_name}.pkl'\n",
    "    try:\n",
    "        sm = pickle.load(open(cache_fn, 'rb'))\n",
    "    except:\n",
    "        sm = pystan.StanModel(model_code=model_code)\n",
    "        with open(cache_fn, 'wb') as f:\n",
    "            pickle.dump(sm, f)\n",
    "    else:\n",
    "        print(\"Using cached StanModel\")\n",
    "    return sm"
   ]
  },
  {
   "cell_type": "code",
   "execution_count": 134,
   "metadata": {},
   "outputs": [],
   "source": [
    "def create_folders(model_name, time_period_name, ticker_list_name):\n",
    "    if not os.path.exists(f'{model_name}/{time_period_name}-{ticker_list_name}/diagnostics/'):\n",
    "        os.makedirs(f'{model_name}/{time_period_name}-{ticker_list_name}/diagnostics/')\n",
    "    if not os.path.exists(f'{model_name}/{time_period_name}-{ticker_list_name}/samples/'):\n",
    "        os.makedirs(f'{model_name}/{time_period_name}-{ticker_list_name}/samples/')"
   ]
  },
  {
   "cell_type": "code",
   "execution_count": 135,
   "metadata": {},
   "outputs": [],
   "source": [
    "def main(Q, kernel):\n",
    "    model_dict = {1 : 'gplvm_finance.stan', 2: 'student-t.stan', 3: 'gplvm_vola.stan', 4: 'gplvm_time.stan'}\n",
    "    model_name_dict = {1 : 'gplvm_finance', 2: 'student-t', 3: 'gplvm_vola', 4: 'gplvm_time'}\n",
    "    time_periods = {1: '2010', 2:'2013'}\n",
    "    ticker_lists = {1: 'trunc', 2: 'test', 3: 'all', 4: '5ers'}\n",
    "    model = model_dict[3]\n",
    "    model_name = model_name_dict[3]\n",
    "    returns_dict= {1: 'https://raw.githubusercontent.com/Kloppel/Thesis/master/resources/n17-d18-returns.csv',}\n",
    "    returns = pd.read_csv(returns_dict[1], index_col='Date', parse_dates=['Date']).iloc[2:, :]\n",
    "\n",
    "    Y = returns.T.values\n",
    "    N, D = Y.shape\n",
    "    Y_T = pd.DataFrame(Y, index=range(1,N+1), columns = range(1,D+1))\n",
    "    Y_T.index.name='N'\n",
    "    create_folders('vola_new', '2010', 'test')\n",
    "    path = 'vola_new/2010-test/'\n",
    "\n",
    "    with open(f'resources/{model}', 'r') as f:\n",
    "        stan_code = f.read()\n",
    "    stan_model = StanModel_cache(model_code=stan_code, model_name=f'{model_name}')\n",
    "    \n",
    "    jitter = 1e-6\n",
    "    data_dict = dict(Y=Y, N=N, D=D, Q=Q, kernel=kernel, jitter=jitter)\n",
    "    vb(stan_model, model, path, data_dict, Q, kernel, jitter)"
   ]
  },
  {
   "cell_type": "code",
   "execution_count": 136,
   "metadata": {},
   "outputs": [],
   "source": [
    "def vb(stan_model, model, path, data_dict, Q, kernel, jitter, init='random', iter=10000):\n",
    "    try:\n",
    "        fit = stan_model.vb(data=data_dict, diagnostic_file=path+f'd_Q{Q}_kernel{kernel}.csv',\n",
    "                            sample_file=path+f's_Q{Q}_kernel{kernel}.csv',\n",
    "                            elbo_samples=1000, init=init, iter=iter, verbose=True)\n",
    "    except pd.errors.ParserError:\n",
    "        print('pandas ParserError - trying again.')\n",
    "        iter=5000\n",
    "        fit = stan_model.vb(data=data_dict, diagnostic_file=path+f'd_Q{Q}_kernel{kernel}.csv',\n",
    "                            sample_file=path+f's_Q{Q}_kernel{kernel}.csv',\n",
    "                            elbo_samples=1000, init=init, iter=iter, verbose=True)\n",
    "    except AttributeError:\n",
    "        fit = stan_model.vb(data=data_dict, diagnostic_file = path+f'diagnostics/d_Q{Q}_kernel{kernel}.csv',\n",
    "                            sample_file = path+f'samples/s_Q{Q}_kernel{kernel}.csv',\n",
    "                            elbo_samples=1000, init=init, iter=iter)"
   ]
  },
  {
   "cell_type": "code",
   "execution_count": 137,
   "metadata": {},
   "outputs": [],
   "source": [
    "Q = 1\n",
    "kernel = 1"
   ]
  },
  {
   "cell_type": "code",
   "execution_count": 138,
   "metadata": {},
   "outputs": [
    {
     "name": "stdout",
     "output_type": "stream",
     "text": [
      "Using cached StanModel\n"
     ]
    },
    {
     "name": "stderr",
     "output_type": "stream",
     "text": [
      "WARNING:pystan:Automatic Differentiation Variational Inference (ADVI) is an EXPERIMENTAL ALGORITHM.\n",
      "WARNING:pystan:ADVI samples may be found on the filesystem in the file `vola_new/2010-test/s_Q1_kernel1.csv`\n"
     ]
    }
   ],
   "source": [
    "main(Q, kernel)"
   ]
  },
  {
   "cell_type": "code",
   "execution_count": null,
   "metadata": {},
   "outputs": [],
   "source": []
  }
 ],
 "metadata": {
  "kernelspec": {
   "display_name": "Python 3",
   "language": "python",
   "name": "python3"
  },
  "language_info": {
   "codemirror_mode": {
    "name": "ipython",
    "version": 3
   },
   "file_extension": ".py",
   "mimetype": "text/x-python",
   "name": "python",
   "nbconvert_exporter": "python",
   "pygments_lexer": "ipython3",
   "version": "3.6.9"
  }
 },
 "nbformat": 4,
 "nbformat_minor": 4
}
